{
 "cells": [
  {
   "cell_type": "code",
   "execution_count": 58,
   "metadata": {
    "collapsed": false
   },
   "outputs": [],
   "source": [
    "import numpy as np\n",
    "import matplotlib.pyplot as plt\n",
    "%matplotlib inline\n",
    "import re "
   ]
  },
  {
   "cell_type": "code",
   "execution_count": 21,
   "metadata": {
    "collapsed": false
   },
   "outputs": [
    {
     "name": "stdout",
     "output_type": "stream",
     "text": [
      "Cargados  10  documentos de ciencia\n",
      "Cargados  10  documentos de deporte\n",
      "Cargados  10  documentos de politica\n"
     ]
    }
   ],
   "source": [
    "POLITICA = []\n",
    "CIENCIA = []\n",
    "DEPORTE = []\n",
    "\n",
    "with open(\"./Ciencia.txt\",\"r\") as RF:\n",
    "    CIENCIA.append([])\n",
    "    for l in RF:\n",
    "        if l == \"###\\n\": #Es un nuevo documento, abrimos una nueva lista\n",
    "            CIENCIA.append([]) \n",
    "            continue\n",
    "        if l != \"\\n\":\n",
    "            CIENCIA[-1].append(l[:-1])\n",
    "#CIENCIA_WORDS = [w.lower() for w in np.concatenate([np.concatenate([l.split(\" \") for l in] CIENCIA[0]]))]\n",
    "print \"Cargados \",len(CIENCIA),\" documentos de ciencia\" \n",
    "\n",
    "with open(\"./Deportes.txt\",\"r\") as RF:\n",
    "    DEPORTE.append([])\n",
    "    for l in RF:\n",
    "        if l == \"###\\n\": #Es un nuevo documento, abrimos una nueva lista\n",
    "            DEPORTE.append([]) \n",
    "            continue\n",
    "        if l != \"\\n\":\n",
    "            DEPORTE[-1].append(l[:-1])\n",
    "print \"Cargados \",len(DEPORTE),\" documentos de deporte\"    \n",
    "    \n",
    "with open(\"./Politica.txt\",\"r\") as RF:\n",
    "    POLITICA.append([])\n",
    "    for l in RF:\n",
    "        if l == \"###\\n\": #Es un nuevo documento, abrimos una nueva lista\n",
    "            POLITICA.append([]) \n",
    "            continue\n",
    "        if l != \"\\n\":\n",
    "            POLITICA[-1].append(l[:-1])\n",
    "print \"Cargados \",len(POLITICA),\" documentos de politica\" "
   ]
  },
  {
   "cell_type": "code",
   "execution_count": 163,
   "metadata": {
    "collapsed": true
   },
   "outputs": [],
   "source": [
    "def preprocess(Docs):\n",
    "    WOR = [np.concatenate([[w.lower() for w in l.split(\" \")] for l in d]) for d in Docs]\n",
    "    for w in xrange(len(WOR)):\n",
    "        W = WOR[w]\n",
    "        W = filter(lambda w : len(w) != 0, W)\n",
    "        W = map(lambda w : re.sub(r'[\\.\\,-]',\"\",w) , W)\n",
    "        W = filter(lambda w : len(w) != 0, W)\n",
    "        W = map(lambda w : re.sub(r'[\\\"\\'><\\\\\\/\\)\\(]',\"\",w) , W)\n",
    "        W = filter(lambda w : len(w) != 0, W)\n",
    "        W = map(lambda w : re.sub(r'\\d',\"\",w) , W)\n",
    "        W = filter(lambda w : len(w) != 0, W)\n",
    "        WOR[w] = W\n",
    "    return WOR"
   ]
  },
  {
   "cell_type": "code",
   "execution_count": 178,
   "metadata": {
    "collapsed": false
   },
   "outputs": [],
   "source": [
    "POLITICA_W = preprocess(POLITICA)\n",
    "CIENCIA_W = preprocess(DEPORTE)\n",
    "DEPORTE_W = preprocess(CIENCIA)\n",
    "TOT_D = POLITICA_W + CIENCIA_W + DEPORTE_W\n",
    "TOT_W = list(set(np.concatenate(TOT_D)))"
   ]
  },
  {
   "cell_type": "code",
   "execution_count": 230,
   "metadata": {
    "collapsed": true
   },
   "outputs": [],
   "source": [
    "ITF_W = [np.log(len(TOT_D)*1.0/len(filter(lambda d :w in d , TOT_D)))  for w in TOT_W]\n",
    "TOT_WU=np.array(TOT_W)[np.where(np.array(ITF_W)> 2.0)[0]]"
   ]
  },
  {
   "cell_type": "code",
   "execution_count": 231,
   "metadata": {
    "collapsed": false,
    "scrolled": true
   },
   "outputs": [
    {
     "name": "stdout",
     "output_type": "stream",
     "text": [
      "0\n",
      "1\n",
      "2\n",
      "3\n",
      "4\n",
      "5\n",
      "6\n",
      "7\n",
      "8\n",
      "9\n",
      "10\n",
      "11\n",
      "12\n",
      "13\n",
      "14\n",
      "15\n",
      "16\n",
      "17\n",
      "18\n",
      "19\n",
      "20\n",
      "21\n",
      "22\n",
      "23\n",
      "24\n",
      "25\n",
      "26\n",
      "27\n",
      "28\n",
      "29\n"
     ]
    }
   ],
   "source": [
    "POLW = []\n",
    "count = 0\n",
    "for d in TOT_D:\n",
    "    print count\n",
    "    count+=1\n",
    "    #POLW.append([])\n",
    "    POLW.append([(len(np.where(np.asanyarray(d) == w)[0]) *1.0/ len(d)) *  np.log(len(TOT_D)*1.0/len(filter(lambda d :w in d,TOT_D)))  for w in TOT_WU])\n",
    "    #for w in TOT_W:\n",
    "    #    ft = len(np.where(np.asanyarray(d) == w)[0]) *1.0/ len(d)\n",
    "    #    itf = len(filter(lambda d :w in d,TOT_D))\n",
    "    #    #for d in TOT_D:\n",
    "    #    #    if w in d:\n",
    "    #    #        itf+=1\n",
    "    #    itf = np.log(len(TOT_D)*1.0/itf)\n",
    "    #    POLW[-1].append(ft*itf)\n"
   ]
  },
  {
   "cell_type": "code",
   "execution_count": 209,
   "metadata": {
    "collapsed": false
   },
   "outputs": [
    {
     "data": {
      "text/plain": [
       "0.0"
      ]
     },
     "execution_count": 209,
     "metadata": {},
     "output_type": "execute_result"
    }
   ],
   "source": [
    "A = TOT_D[0]\n",
    "len(filter(lambda d :\"rajoy\" in d,TOT_D))\n",
    "np.log(1)"
   ]
  },
  {
   "cell_type": "code",
   "execution_count": 232,
   "metadata": {
    "collapsed": false,
    "scrolled": true
   },
   "outputs": [
    {
     "data": {
      "text/plain": [
       "[54,\n",
       " 288,\n",
       " 99,\n",
       " 163,\n",
       " 241,\n",
       " 226,\n",
       " 137,\n",
       " 280,\n",
       " 382,\n",
       " 93,\n",
       " 71,\n",
       " 115,\n",
       " 69,\n",
       " 257,\n",
       " 53,\n",
       " 119,\n",
       " 108,\n",
       " 54,\n",
       " 136,\n",
       " 67,\n",
       " 230,\n",
       " 317,\n",
       " 193,\n",
       " 268,\n",
       " 337,\n",
       " 258,\n",
       " 145,\n",
       " 316,\n",
       " 219,\n",
       " 246]"
      ]
     },
     "execution_count": 232,
     "metadata": {},
     "output_type": "execute_result"
    }
   ],
   "source": [
    "[len(filter(lambda w : w != 0.0, l)) for l in POLW]"
   ]
  },
  {
   "cell_type": "code",
   "execution_count": 220,
   "metadata": {
    "collapsed": false
   },
   "outputs": [
    {
     "data": {
      "text/plain": [
       "33.115451958692312"
      ]
     },
     "execution_count": 220,
     "metadata": {},
     "output_type": "execute_result"
    }
   ],
   "source": [
    "np.exp(3.5)"
   ]
  },
  {
   "cell_type": "code",
   "execution_count": null,
   "metadata": {
    "collapsed": true
   },
   "outputs": [],
   "source": []
  }
 ],
 "metadata": {
  "anaconda-cloud": {},
  "kernelspec": {
   "display_name": "Python [Root]",
   "language": "python",
   "name": "Python [Root]"
  },
  "language_info": {
   "codemirror_mode": {
    "name": "ipython",
    "version": 3
   },
   "file_extension": ".py",
   "mimetype": "text/x-python",
   "name": "python",
   "nbconvert_exporter": "python",
   "pygments_lexer": "ipython3",
   "version": "3.5.2"
  }
 },
 "nbformat": 4,
 "nbformat_minor": 0
}
